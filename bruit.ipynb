{
 "cells": [
  {
   "cell_type": "code",
   "execution_count": null,
   "id": "d053200f-9448-4dfb-a1b2-42cac0aa6096",
   "metadata": {},
   "outputs": [],
   "source": []
  },
  {
   "cell_type": "code",
   "execution_count": 2,
   "id": "0bca89e0-be59-43ac-adb8-26872fae74b4",
   "metadata": {},
   "outputs": [],
   "source": [
    "import numpy as np\n",
    "import pandas as pd\n",
    "import geopandas as gpd"
   ]
  },
  {
   "cell_type": "code",
   "execution_count": 10,
   "id": "63c95fb6-4b0a-48c2-834c-89f03f5fb3e2",
   "metadata": {},
   "outputs": [],
   "source": [
    "mel_cities = gpd.read_file('2024-project/2024-project/cartographic-resources/mel_communes.zip')\n",
    "nordData = gpd.read_file('2024-project/2024-project/cartographic-resources/IRIS-GE_2-0_SHP_LAMB93_D059-2020/IRIS_GE.SHX')\n",
    "dfe = gpd.read_parquet('2024-project/2024-project/cartographic-resources/mel.parquet')\n",
    "bruit = gpd.read_file('2024-project/2024-project/donnees-bruit-nuit.zip')"
   ]
  },
  {
   "cell_type": "code",
   "execution_count": 16,
   "id": "e5bc4819-bbaf-4241-88e5-8b0cb2e90c4a",
   "metadata": {},
   "outputs": [
    {
     "data": {
      "text/plain": [
       "Index(['objectid', 'theme', 'source', 'gridcode', 'from', 'to', 'period',\n",
       "       'geometry'],\n",
       "      dtype='object')"
      ]
     },
     "execution_count": 16,
     "metadata": {},
     "output_type": "execute_result"
    }
   ],
   "source": [
    "bruit.columns"
   ]
  },
  {
   "cell_type": "code",
   "execution_count": null,
   "id": "77db5e8b-0def-41af-b1a4-b272742ecd97",
   "metadata": {},
   "outputs": [],
   "source": []
  },
  {
   "cell_type": "code",
   "execution_count": 14,
   "id": "0ea94c35-347e-4c55-a74f-1da70962d0a4",
   "metadata": {},
   "outputs": [
    {
     "name": "stdout",
     "output_type": "stream",
     "text": [
      ".DS_Store\n",
      "Accessibilite_note.pdf\n",
      "accidents-corporels-de-la-circulation-en-france.zip\n",
      "base-voie-velo.geojson\n",
      "cartographic-resources\n",
      "deplacement domicile travail.xls\n",
      "donnees-bruit-nuit.zip\n",
      "emploisMEL.xlsx\n",
      "etablissements.xlsx\n",
      "low-carbon-mobility.pdf\n",
      "notebook-emploi.pdf\n",
      "README.markdown\n",
      "README.pdf\n"
     ]
    }
   ],
   "source": [
    "import os\n",
    "\n",
    "folder_path = '2024-project/2024-project'\n",
    "\n",
    "try:\n",
    "    files = os.listdir(folder_path)\n",
    "    for file in files:\n",
    "        print(file)\n",
    "except FileNotFoundError:\n",
    "    print(f\"The specified folder '{folder_path}' does not exist.\")\n",
    "except Exception as e:\n",
    "    print(f\"An error occurred: {e}\")"
   ]
  },
  {
   "cell_type": "code",
   "execution_count": null,
   "id": "0534b967-feae-4803-b242-a4ad5657b4a8",
   "metadata": {},
   "outputs": [],
   "source": [
    "!pwd"
   ]
  },
  {
   "cell_type": "code",
   "execution_count": 6,
   "id": "fc90a11b-a097-4e10-a00b-0e834ea3a091",
   "metadata": {},
   "outputs": [
    {
     "name": "stderr",
     "output_type": "stream",
     "text": [
      "/tmp/ipykernel_14097/4103861690.py:2: DtypeWarning: Columns (0,2,3,4,7) have mixed types. Specify dtype option on import or set low_memory=False.\n",
      "  ic_act = pd.read_csv(ic_act_path, sep=';',encoding='latin1')\n"
     ]
    }
   ],
   "source": [
    "ic_act_path = 'iris-statistiques/iris-statistiques.csv/Csv/ic_act_2016.csv'\n",
    "ic_act = pd.read_csv(ic_act_path, sep=';',encoding='latin1')  "
   ]
  },
  {
   "cell_type": "code",
   "execution_count": 7,
   "id": "bd0a79d1-4785-4969-84ca-8e44fd6e7b24",
   "metadata": {},
   "outputs": [
    {
     "data": {
      "text/plain": [
       "Index(['IRIS', 'REG', 'DEP', 'UU2010', 'COM', 'LIBCOM', 'TRIRIS', 'GRD_QUART',\n",
       "       'LIBIRIS', 'TYP_IRIS',\n",
       "       ...\n",
       "       'P16_ACTOCC15P_ILT2', 'P16_ACTOCC15P_ILT3', 'P16_ACTOCC15P_ILT4',\n",
       "       'P16_ACTOCC15P_ILT5', 'C16_ACTOCC15P', 'C16_ACTOCC15P_PAS',\n",
       "       'C16_ACTOCC15P_MAR', 'C16_ACTOCC15P_DROU', 'C16_ACTOCC15P_VOIT',\n",
       "       'C16_ACTOCC15P_TCOM'],\n",
       "      dtype='object', length=114)"
      ]
     },
     "execution_count": 7,
     "metadata": {},
     "output_type": "execute_result"
    }
   ],
   "source": [
    "ic_act.columns"
   ]
  }
 ],
 "metadata": {
  "kernelspec": {
   "display_name": "Python 3 (ipykernel)",
   "language": "python",
   "name": "python3"
  },
  "language_info": {
   "codemirror_mode": {
    "name": "ipython",
    "version": 3
   },
   "file_extension": ".py",
   "mimetype": "text/x-python",
   "name": "python",
   "nbconvert_exporter": "python",
   "pygments_lexer": "ipython3",
   "version": "3.10.12"
  }
 },
 "nbformat": 4,
 "nbformat_minor": 5
}
